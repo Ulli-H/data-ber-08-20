{
 "cells": [
  {
   "cell_type": "code",
   "execution_count": 1,
   "metadata": {},
   "outputs": [],
   "source": [
    "import pandas as pd\n",
    "import requests\n",
    "import json\n",
    "import matplotlib\n",
    "%matplotlib inline"
   ]
  },
  {
   "cell_type": "markdown",
   "metadata": {},
   "source": [
    "# Dogecoin and Bitcoin market value for last 30 days, vs. USD, deliver a DF and a Plot"
   ]
  },
  {
   "cell_type": "code",
   "execution_count": 2,
   "metadata": {},
   "outputs": [],
   "source": [
    "base = 'https://api.coingecko.com/api/v3/'"
   ]
  },
  {
   "cell_type": "code",
   "execution_count": 3,
   "metadata": {},
   "outputs": [],
   "source": [
    "url = base + 'coins/bitcoin/market_chart?vs_currency=usd&days=30'"
   ]
  },
  {
   "cell_type": "code",
   "execution_count": 4,
   "metadata": {},
   "outputs": [],
   "source": [
    "result = requests.get(url)\n",
    "j_bc = result.json()"
   ]
  },
  {
   "cell_type": "code",
   "execution_count": 5,
   "metadata": {},
   "outputs": [
    {
     "data": {
      "text/html": [
       "<div>\n",
       "<style scoped>\n",
       "    .dataframe tbody tr th:only-of-type {\n",
       "        vertical-align: middle;\n",
       "    }\n",
       "\n",
       "    .dataframe tbody tr th {\n",
       "        vertical-align: top;\n",
       "    }\n",
       "\n",
       "    .dataframe thead th {\n",
       "        text-align: right;\n",
       "    }\n",
       "</style>\n",
       "<table border=\"1\" class=\"dataframe\">\n",
       "  <thead>\n",
       "    <tr style=\"text-align: right;\">\n",
       "      <th></th>\n",
       "      <th>time</th>\n",
       "      <th>price</th>\n",
       "    </tr>\n",
       "  </thead>\n",
       "  <tbody>\n",
       "    <tr>\n",
       "      <th>0</th>\n",
       "      <td>1595750617880</td>\n",
       "      <td>9711.907504</td>\n",
       "    </tr>\n",
       "    <tr>\n",
       "      <th>1</th>\n",
       "      <td>1595754543184</td>\n",
       "      <td>9757.459364</td>\n",
       "    </tr>\n",
       "    <tr>\n",
       "      <th>2</th>\n",
       "      <td>1595757662129</td>\n",
       "      <td>9819.109104</td>\n",
       "    </tr>\n",
       "    <tr>\n",
       "      <th>3</th>\n",
       "      <td>1595761695243</td>\n",
       "      <td>9987.357043</td>\n",
       "    </tr>\n",
       "    <tr>\n",
       "      <th>4</th>\n",
       "      <td>1595765305901</td>\n",
       "      <td>9964.040808</td>\n",
       "    </tr>\n",
       "    <tr>\n",
       "      <th>5</th>\n",
       "      <td>1595768890490</td>\n",
       "      <td>9859.954625</td>\n",
       "    </tr>\n",
       "    <tr>\n",
       "      <th>6</th>\n",
       "      <td>1595772422810</td>\n",
       "      <td>9883.111241</td>\n",
       "    </tr>\n",
       "    <tr>\n",
       "      <th>7</th>\n",
       "      <td>1595775891366</td>\n",
       "      <td>9934.587001</td>\n",
       "    </tr>\n",
       "    <tr>\n",
       "      <th>8</th>\n",
       "      <td>1595779396173</td>\n",
       "      <td>9959.591219</td>\n",
       "    </tr>\n",
       "    <tr>\n",
       "      <th>9</th>\n",
       "      <td>1595783291349</td>\n",
       "      <td>9905.876235</td>\n",
       "    </tr>\n",
       "  </tbody>\n",
       "</table>\n",
       "</div>"
      ],
      "text/plain": [
       "            time        price\n",
       "0  1595750617880  9711.907504\n",
       "1  1595754543184  9757.459364\n",
       "2  1595757662129  9819.109104\n",
       "3  1595761695243  9987.357043\n",
       "4  1595765305901  9964.040808\n",
       "5  1595768890490  9859.954625\n",
       "6  1595772422810  9883.111241\n",
       "7  1595775891366  9934.587001\n",
       "8  1595779396173  9959.591219\n",
       "9  1595783291349  9905.876235"
      ]
     },
     "execution_count": 5,
     "metadata": {},
     "output_type": "execute_result"
    }
   ],
   "source": [
    "df_bc = pd.DataFrame(j_bc['prices'], columns=['time', 'price'])\n",
    "df_bc.head(10)"
   ]
  },
  {
   "cell_type": "code",
   "execution_count": 6,
   "metadata": {},
   "outputs": [],
   "source": [
    "url = base + 'coins/dogecoin/market_chart'\n"
   ]
  },
  {
   "cell_type": "code",
   "execution_count": 7,
   "metadata": {},
   "outputs": [],
   "source": [
    "param_dict = { 'id':'dogecoin', 'vs_currency':'usd', 'days':30}\n"
   ]
  },
  {
   "cell_type": "code",
   "execution_count": 8,
   "metadata": {},
   "outputs": [],
   "source": [
    "result = requests.get(url, params=param_dict)\n"
   ]
  },
  {
   "cell_type": "code",
   "execution_count": 9,
   "metadata": {},
   "outputs": [
    {
     "data": {
      "text/html": [
       "<div>\n",
       "<style scoped>\n",
       "    .dataframe tbody tr th:only-of-type {\n",
       "        vertical-align: middle;\n",
       "    }\n",
       "\n",
       "    .dataframe tbody tr th {\n",
       "        vertical-align: top;\n",
       "    }\n",
       "\n",
       "    .dataframe thead th {\n",
       "        text-align: right;\n",
       "    }\n",
       "</style>\n",
       "<table border=\"1\" class=\"dataframe\">\n",
       "  <thead>\n",
       "    <tr style=\"text-align: right;\">\n",
       "      <th></th>\n",
       "      <th>time</th>\n",
       "      <th>price</th>\n",
       "    </tr>\n",
       "  </thead>\n",
       "  <tbody>\n",
       "    <tr>\n",
       "      <th>0</th>\n",
       "      <td>1595754499279</td>\n",
       "      <td>0.003253</td>\n",
       "    </tr>\n",
       "    <tr>\n",
       "      <th>1</th>\n",
       "      <td>1595758117130</td>\n",
       "      <td>0.003228</td>\n",
       "    </tr>\n",
       "    <tr>\n",
       "      <th>2</th>\n",
       "      <td>1595761714210</td>\n",
       "      <td>0.003216</td>\n",
       "    </tr>\n",
       "    <tr>\n",
       "      <th>3</th>\n",
       "      <td>1595765280702</td>\n",
       "      <td>0.003224</td>\n",
       "    </tr>\n",
       "    <tr>\n",
       "      <th>4</th>\n",
       "      <td>1595768489406</td>\n",
       "      <td>0.003199</td>\n",
       "    </tr>\n",
       "    <tr>\n",
       "      <th>5</th>\n",
       "      <td>1595772101361</td>\n",
       "      <td>0.003200</td>\n",
       "    </tr>\n",
       "    <tr>\n",
       "      <th>6</th>\n",
       "      <td>1595775719056</td>\n",
       "      <td>0.003200</td>\n",
       "    </tr>\n",
       "    <tr>\n",
       "      <th>7</th>\n",
       "      <td>1595779596990</td>\n",
       "      <td>0.003200</td>\n",
       "    </tr>\n",
       "    <tr>\n",
       "      <th>8</th>\n",
       "      <td>1595782958862</td>\n",
       "      <td>0.003206</td>\n",
       "    </tr>\n",
       "    <tr>\n",
       "      <th>9</th>\n",
       "      <td>1595786461373</td>\n",
       "      <td>0.003216</td>\n",
       "    </tr>\n",
       "  </tbody>\n",
       "</table>\n",
       "</div>"
      ],
      "text/plain": [
       "            time     price\n",
       "0  1595754499279  0.003253\n",
       "1  1595758117130  0.003228\n",
       "2  1595761714210  0.003216\n",
       "3  1595765280702  0.003224\n",
       "4  1595768489406  0.003199\n",
       "5  1595772101361  0.003200\n",
       "6  1595775719056  0.003200\n",
       "7  1595779596990  0.003200\n",
       "8  1595782958862  0.003206\n",
       "9  1595786461373  0.003216"
      ]
     },
     "execution_count": 9,
     "metadata": {},
     "output_type": "execute_result"
    }
   ],
   "source": [
    "j_dc = result.json()\n",
    "df_dc = pd.DataFrame(j_dc['prices'], columns=['time', 'price'])\n",
    "df_dc.head(10)"
   ]
  },
  {
   "cell_type": "code",
   "execution_count": 10,
   "metadata": {},
   "outputs": [],
   "source": [
    "df_bc = pd.DataFrame(j_bc['prices'], columns=['time', 'price'])\n",
    "df_bc['time'] = pd.to_datetime(df_bc['time'], unit='ms')"
   ]
  },
  {
   "cell_type": "code",
   "execution_count": 11,
   "metadata": {},
   "outputs": [
    {
     "data": {
      "text/html": [
       "<div>\n",
       "<style scoped>\n",
       "    .dataframe tbody tr th:only-of-type {\n",
       "        vertical-align: middle;\n",
       "    }\n",
       "\n",
       "    .dataframe tbody tr th {\n",
       "        vertical-align: top;\n",
       "    }\n",
       "\n",
       "    .dataframe thead th {\n",
       "        text-align: right;\n",
       "    }\n",
       "</style>\n",
       "<table border=\"1\" class=\"dataframe\">\n",
       "  <thead>\n",
       "    <tr style=\"text-align: right;\">\n",
       "      <th></th>\n",
       "      <th>price</th>\n",
       "    </tr>\n",
       "    <tr>\n",
       "      <th>time</th>\n",
       "      <th></th>\n",
       "    </tr>\n",
       "  </thead>\n",
       "  <tbody>\n",
       "    <tr>\n",
       "      <th>2020-07-26 08:03:37.880</th>\n",
       "      <td>9711.907504</td>\n",
       "    </tr>\n",
       "    <tr>\n",
       "      <th>2020-07-26 09:09:03.184</th>\n",
       "      <td>9757.459364</td>\n",
       "    </tr>\n",
       "    <tr>\n",
       "      <th>2020-07-26 10:01:02.129</th>\n",
       "      <td>9819.109104</td>\n",
       "    </tr>\n",
       "    <tr>\n",
       "      <th>2020-07-26 11:08:15.243</th>\n",
       "      <td>9987.357043</td>\n",
       "    </tr>\n",
       "    <tr>\n",
       "      <th>2020-07-26 12:08:25.901</th>\n",
       "      <td>9964.040808</td>\n",
       "    </tr>\n",
       "    <tr>\n",
       "      <th>2020-07-26 13:08:10.490</th>\n",
       "      <td>9859.954625</td>\n",
       "    </tr>\n",
       "    <tr>\n",
       "      <th>2020-07-26 14:07:02.810</th>\n",
       "      <td>9883.111241</td>\n",
       "    </tr>\n",
       "    <tr>\n",
       "      <th>2020-07-26 15:04:51.366</th>\n",
       "      <td>9934.587001</td>\n",
       "    </tr>\n",
       "    <tr>\n",
       "      <th>2020-07-26 16:03:16.173</th>\n",
       "      <td>9959.591219</td>\n",
       "    </tr>\n",
       "    <tr>\n",
       "      <th>2020-07-26 17:08:11.349</th>\n",
       "      <td>9905.876235</td>\n",
       "    </tr>\n",
       "  </tbody>\n",
       "</table>\n",
       "</div>"
      ],
      "text/plain": [
       "                               price\n",
       "time                                \n",
       "2020-07-26 08:03:37.880  9711.907504\n",
       "2020-07-26 09:09:03.184  9757.459364\n",
       "2020-07-26 10:01:02.129  9819.109104\n",
       "2020-07-26 11:08:15.243  9987.357043\n",
       "2020-07-26 12:08:25.901  9964.040808\n",
       "2020-07-26 13:08:10.490  9859.954625\n",
       "2020-07-26 14:07:02.810  9883.111241\n",
       "2020-07-26 15:04:51.366  9934.587001\n",
       "2020-07-26 16:03:16.173  9959.591219\n",
       "2020-07-26 17:08:11.349  9905.876235"
      ]
     },
     "execution_count": 11,
     "metadata": {},
     "output_type": "execute_result"
    }
   ],
   "source": [
    "df_bc.set_index('time', inplace=True)\n",
    "df_bc.head(10)"
   ]
  },
  {
   "cell_type": "code",
   "execution_count": 12,
   "metadata": {},
   "outputs": [
    {
     "data": {
      "text/html": [
       "<div>\n",
       "<style scoped>\n",
       "    .dataframe tbody tr th:only-of-type {\n",
       "        vertical-align: middle;\n",
       "    }\n",
       "\n",
       "    .dataframe tbody tr th {\n",
       "        vertical-align: top;\n",
       "    }\n",
       "\n",
       "    .dataframe thead th {\n",
       "        text-align: right;\n",
       "    }\n",
       "</style>\n",
       "<table border=\"1\" class=\"dataframe\">\n",
       "  <thead>\n",
       "    <tr style=\"text-align: right;\">\n",
       "      <th></th>\n",
       "      <th>price</th>\n",
       "    </tr>\n",
       "    <tr>\n",
       "      <th>time</th>\n",
       "      <th></th>\n",
       "    </tr>\n",
       "  </thead>\n",
       "  <tbody>\n",
       "    <tr>\n",
       "      <th>2020-07-26 09:08:19.279</th>\n",
       "      <td>0.003253</td>\n",
       "    </tr>\n",
       "    <tr>\n",
       "      <th>2020-07-26 10:08:37.130</th>\n",
       "      <td>0.003228</td>\n",
       "    </tr>\n",
       "    <tr>\n",
       "      <th>2020-07-26 11:08:34.210</th>\n",
       "      <td>0.003216</td>\n",
       "    </tr>\n",
       "    <tr>\n",
       "      <th>2020-07-26 12:08:00.702</th>\n",
       "      <td>0.003224</td>\n",
       "    </tr>\n",
       "    <tr>\n",
       "      <th>2020-07-26 13:01:29.406</th>\n",
       "      <td>0.003199</td>\n",
       "    </tr>\n",
       "    <tr>\n",
       "      <th>2020-07-26 14:01:41.361</th>\n",
       "      <td>0.003200</td>\n",
       "    </tr>\n",
       "    <tr>\n",
       "      <th>2020-07-26 15:01:59.056</th>\n",
       "      <td>0.003200</td>\n",
       "    </tr>\n",
       "    <tr>\n",
       "      <th>2020-07-26 16:06:36.990</th>\n",
       "      <td>0.003200</td>\n",
       "    </tr>\n",
       "    <tr>\n",
       "      <th>2020-07-26 17:02:38.862</th>\n",
       "      <td>0.003206</td>\n",
       "    </tr>\n",
       "    <tr>\n",
       "      <th>2020-07-26 18:01:01.373</th>\n",
       "      <td>0.003216</td>\n",
       "    </tr>\n",
       "  </tbody>\n",
       "</table>\n",
       "</div>"
      ],
      "text/plain": [
       "                            price\n",
       "time                             \n",
       "2020-07-26 09:08:19.279  0.003253\n",
       "2020-07-26 10:08:37.130  0.003228\n",
       "2020-07-26 11:08:34.210  0.003216\n",
       "2020-07-26 12:08:00.702  0.003224\n",
       "2020-07-26 13:01:29.406  0.003199\n",
       "2020-07-26 14:01:41.361  0.003200\n",
       "2020-07-26 15:01:59.056  0.003200\n",
       "2020-07-26 16:06:36.990  0.003200\n",
       "2020-07-26 17:02:38.862  0.003206\n",
       "2020-07-26 18:01:01.373  0.003216"
      ]
     },
     "execution_count": 12,
     "metadata": {},
     "output_type": "execute_result"
    }
   ],
   "source": [
    "df_dc = pd.DataFrame(j_dc['prices'], columns=['time', 'price'])\n",
    "df_dc['time'] = pd.to_datetime(df_dc['time'], unit='ms')\n",
    "\n",
    "df_dc.set_index('time', inplace=True)\n",
    "df_dc.head(10)"
   ]
  },
  {
   "cell_type": "code",
   "execution_count": 13,
   "metadata": {},
   "outputs": [
    {
     "data": {
      "text/plain": [
       "<matplotlib.axes._subplots.AxesSubplot at 0x7f8c0537d880>"
      ]
     },
     "execution_count": 13,
     "metadata": {},
     "output_type": "execute_result"
    },
    {
     "data": {
      "image/png": "[encoded data removed]",
      "text/plain": [
       "<Figure size 432x288 with 1 Axes>"
      ]
     },
     "metadata": {
      "needs_background": "light"
     },
     "output_type": "display_data"
    }
   ],
   "source": [
    "df_bc.plot()"
   ]
  },
  {
   "cell_type": "markdown",
   "metadata": {},
   "source": [
    "![logo](Dogecoin_logo.png)"
   ]
  },
  {
   "cell_type": "code",
   "execution_count": 14,
   "metadata": {},
   "outputs": [
    {
     "data": {
      "text/plain": [
       "<matplotlib.axes._subplots.AxesSubplot at 0x7f8c0547a4f0>"
      ]
     },
     "execution_count": 14,
     "metadata": {},
     "output_type": "execute_result"
    },
    {
     "data": {
      "image/png": "[encoded data removed]",
      "text/plain": [
       "<Figure size 432x288 with 1 Axes>"
      ]
     },
     "metadata": {
      "needs_background": "light"
     },
     "output_type": "display_data"
    }
   ],
   "source": [
    "df_dc.plot()"
   ]
  },
  {
   "cell_type": "markdown",
   "metadata": {},
   "source": [
    "# top ten coins report"
   ]
  },
  {
   "cell_type": "code",
   "execution_count": 15,
   "metadata": {},
   "outputs": [],
   "source": [
    "url = base + 'coins/list'"
   ]
  },
  {
   "cell_type": "code",
   "execution_count": 16,
   "metadata": {},
   "outputs": [
    {
     "data": {
      "text/html": [
       "<div>\n",
       "<style scoped>\n",
       "    .dataframe tbody tr th:only-of-type {\n",
       "        vertical-align: middle;\n",
       "    }\n",
       "\n",
       "    .dataframe tbody tr th {\n",
       "        vertical-align: top;\n",
       "    }\n",
       "\n",
       "    .dataframe thead th {\n",
       "        text-align: right;\n",
       "    }\n",
       "</style>\n",
       "<table border=\"1\" class=\"dataframe\">\n",
       "  <thead>\n",
       "    <tr style=\"text-align: right;\">\n",
       "      <th></th>\n",
       "      <th>id</th>\n",
       "      <th>symbol</th>\n",
       "      <th>name</th>\n",
       "    </tr>\n",
       "  </thead>\n",
       "  <tbody>\n",
       "    <tr>\n",
       "      <th>0</th>\n",
       "      <td>01coin</td>\n",
       "      <td>zoc</td>\n",
       "      <td>01coin</td>\n",
       "    </tr>\n",
       "    <tr>\n",
       "      <th>1</th>\n",
       "      <td>0-5x-long-algorand-token</td>\n",
       "      <td>algohalf</td>\n",
       "      <td>0.5X Long Algorand Token</td>\n",
       "    </tr>\n",
       "    <tr>\n",
       "      <th>2</th>\n",
       "      <td>0-5x-long-altcoin-index-token</td>\n",
       "      <td>althalf</td>\n",
       "      <td>0.5X Long Altcoin Index Token</td>\n",
       "    </tr>\n",
       "    <tr>\n",
       "      <th>3</th>\n",
       "      <td>0-5x-long-balancer-token</td>\n",
       "      <td>balhalf</td>\n",
       "      <td>0.5X Long Balancer Token</td>\n",
       "    </tr>\n",
       "    <tr>\n",
       "      <th>4</th>\n",
       "      <td>0-5x-long-bilibra-token</td>\n",
       "      <td>trybhalf</td>\n",
       "      <td>0.5X Long BiLira Token</td>\n",
       "    </tr>\n",
       "    <tr>\n",
       "      <th>5</th>\n",
       "      <td>0-5x-long-bitcoin-cash-token</td>\n",
       "      <td>bchhalf</td>\n",
       "      <td>0.5X Long Bitcoin Cash Token</td>\n",
       "    </tr>\n",
       "    <tr>\n",
       "      <th>6</th>\n",
       "      <td>0-5x-long-bitcoin-sv-token</td>\n",
       "      <td>bsvhalf</td>\n",
       "      <td>0.5X Long Bitcoin SV Token</td>\n",
       "    </tr>\n",
       "    <tr>\n",
       "      <th>7</th>\n",
       "      <td>0-5x-long-bitcoin-token</td>\n",
       "      <td>half</td>\n",
       "      <td>0.5X Long Bitcoin Token</td>\n",
       "    </tr>\n",
       "    <tr>\n",
       "      <th>8</th>\n",
       "      <td>0-5x-long-bitmax-token-token</td>\n",
       "      <td>btmxhalf</td>\n",
       "      <td>0.5X Long BitMax Token Token</td>\n",
       "    </tr>\n",
       "    <tr>\n",
       "      <th>9</th>\n",
       "      <td>0-5x-long-bnb-token</td>\n",
       "      <td>bnbhalf</td>\n",
       "      <td>0.5X Long BNB Token</td>\n",
       "    </tr>\n",
       "  </tbody>\n",
       "</table>\n",
       "</div>"
      ],
      "text/plain": [
       "                              id    symbol                           name\n",
       "0                         01coin       zoc                         01coin\n",
       "1       0-5x-long-algorand-token  algohalf       0.5X Long Algorand Token\n",
       "2  0-5x-long-altcoin-index-token   althalf  0.5X Long Altcoin Index Token\n",
       "3       0-5x-long-balancer-token   balhalf       0.5X Long Balancer Token\n",
       "4        0-5x-long-bilibra-token  trybhalf         0.5X Long BiLira Token\n",
       "5   0-5x-long-bitcoin-cash-token   bchhalf   0.5X Long Bitcoin Cash Token\n",
       "6     0-5x-long-bitcoin-sv-token   bsvhalf     0.5X Long Bitcoin SV Token\n",
       "7        0-5x-long-bitcoin-token      half        0.5X Long Bitcoin Token\n",
       "8   0-5x-long-bitmax-token-token  btmxhalf   0.5X Long BitMax Token Token\n",
       "9            0-5x-long-bnb-token   bnbhalf            0.5X Long BNB Token"
      ]
     },
     "execution_count": 16,
     "metadata": {},
     "output_type": "execute_result"
    }
   ],
   "source": [
    "result = requests.get(url)\n",
    "j = result.json()\n",
    "\n",
    "df_list = pd.DataFrame(j)\n",
    "df_list.head(10)"
   ]
  },
  {
   "cell_type": "code",
   "execution_count": 17,
   "metadata": {},
   "outputs": [
    {
     "data": {
      "text/plain": [
       "0                           01coin\n",
       "1         0-5x-long-algorand-token\n",
       "2    0-5x-long-altcoin-index-token\n",
       "3         0-5x-long-balancer-token\n",
       "4          0-5x-long-bilibra-token\n",
       "5     0-5x-long-bitcoin-cash-token\n",
       "6       0-5x-long-bitcoin-sv-token\n",
       "7          0-5x-long-bitcoin-token\n",
       "8     0-5x-long-bitmax-token-token\n",
       "9              0-5x-long-bnb-token\n",
       "Name: id, dtype: object"
      ]
     },
     "execution_count": 17,
     "metadata": {},
     "output_type": "execute_result"
    }
   ],
   "source": [
    "data_df = df_list.iloc[:10, 0]\n",
    "data_df"
   ]
  },
  {
   "cell_type": "code",
   "execution_count": 18,
   "metadata": {},
   "outputs": [
    {
     "data": {
      "text/html": [
       "<div>\n",
       "<style scoped>\n",
       "    .dataframe tbody tr th:only-of-type {\n",
       "        vertical-align: middle;\n",
       "    }\n",
       "\n",
       "    .dataframe tbody tr th {\n",
       "        vertical-align: top;\n",
       "    }\n",
       "\n",
       "    .dataframe thead th {\n",
       "        text-align: right;\n",
       "    }\n",
       "</style>\n",
       "<table border=\"1\" class=\"dataframe\">\n",
       "  <thead>\n",
       "    <tr style=\"text-align: right;\">\n",
       "      <th></th>\n",
       "      <th>date_time</th>\n",
       "      <th>price</th>\n",
       "      <th>file_name</th>\n",
       "    </tr>\n",
       "  </thead>\n",
       "  <tbody>\n",
       "    <tr>\n",
       "      <th>0</th>\n",
       "      <td>1572480000000</td>\n",
       "      <td>0.001871</td>\n",
       "      <td>01coin</td>\n",
       "    </tr>\n",
       "    <tr>\n",
       "      <th>1</th>\n",
       "      <td>1572566400000</td>\n",
       "      <td>0.001748</td>\n",
       "      <td>01coin</td>\n",
       "    </tr>\n",
       "    <tr>\n",
       "      <th>2</th>\n",
       "      <td>1572652800000</td>\n",
       "      <td>0.001721</td>\n",
       "      <td>01coin</td>\n",
       "    </tr>\n",
       "    <tr>\n",
       "      <th>3</th>\n",
       "      <td>1572739200000</td>\n",
       "      <td>0.001423</td>\n",
       "      <td>01coin</td>\n",
       "    </tr>\n",
       "    <tr>\n",
       "      <th>4</th>\n",
       "      <td>1572825600000</td>\n",
       "      <td>0.001428</td>\n",
       "      <td>01coin</td>\n",
       "    </tr>\n",
       "    <tr>\n",
       "      <th>...</th>\n",
       "      <td>...</td>\n",
       "      <td>...</td>\n",
       "      <td>...</td>\n",
       "    </tr>\n",
       "    <tr>\n",
       "      <th>11</th>\n",
       "      <td>1598054400000</td>\n",
       "      <td>7905.177680</td>\n",
       "      <td>0-5x-long-bnb-token</td>\n",
       "    </tr>\n",
       "    <tr>\n",
       "      <th>12</th>\n",
       "      <td>1598140800000</td>\n",
       "      <td>7946.084494</td>\n",
       "      <td>0-5x-long-bnb-token</td>\n",
       "    </tr>\n",
       "    <tr>\n",
       "      <th>13</th>\n",
       "      <td>1598227200000</td>\n",
       "      <td>7871.054036</td>\n",
       "      <td>0-5x-long-bnb-token</td>\n",
       "    </tr>\n",
       "    <tr>\n",
       "      <th>14</th>\n",
       "      <td>1598313600000</td>\n",
       "      <td>7999.239336</td>\n",
       "      <td>0-5x-long-bnb-token</td>\n",
       "    </tr>\n",
       "    <tr>\n",
       "      <th>15</th>\n",
       "      <td>1598346919000</td>\n",
       "      <td>7936.002833</td>\n",
       "      <td>0-5x-long-bnb-token</td>\n",
       "    </tr>\n",
       "  </tbody>\n",
       "</table>\n",
       "<p>352 rows × 3 columns</p>\n",
       "</div>"
      ],
      "text/plain": [
       "        date_time        price            file_name\n",
       "0   1572480000000     0.001871               01coin\n",
       "1   1572566400000     0.001748               01coin\n",
       "2   1572652800000     0.001721               01coin\n",
       "3   1572739200000     0.001423               01coin\n",
       "4   1572825600000     0.001428               01coin\n",
       "..            ...          ...                  ...\n",
       "11  1598054400000  7905.177680  0-5x-long-bnb-token\n",
       "12  1598140800000  7946.084494  0-5x-long-bnb-token\n",
       "13  1598227200000  7871.054036  0-5x-long-bnb-token\n",
       "14  1598313600000  7999.239336  0-5x-long-bnb-token\n",
       "15  1598346919000  7936.002833  0-5x-long-bnb-token\n",
       "\n",
       "[352 rows x 3 columns]"
      ]
     },
     "execution_count": 18,
     "metadata": {},
     "output_type": "execute_result"
    }
   ],
   "source": [
    "data_list = []\n",
    "\n",
    "for i in data_df:\n",
    "    base = \"http://api.coingecko.com/api/v3/coins/\"\n",
    "    url = base + i + \"/market_chart?vs_currency=usd&days=300\"\n",
    "    result = requests.get(url)\n",
    "    data = result.json()\n",
    "    data_df = pd.DataFrame(data['prices'], columns = ['date_time','price'])\n",
    "    data_df[\"file_name\"] = i\n",
    "    data_list.append(data_df)\n",
    "\n",
    "data_report = pd.concat(data_list)\n",
    "data_report"
   ]
  },
  {
   "cell_type": "code",
   "execution_count": 19,
   "metadata": {},
   "outputs": [
    {
     "data": {
      "text/html": [
       "<div>\n",
       "<style scoped>\n",
       "    .dataframe tbody tr th:only-of-type {\n",
       "        vertical-align: middle;\n",
       "    }\n",
       "\n",
       "    .dataframe tbody tr th {\n",
       "        vertical-align: top;\n",
       "    }\n",
       "\n",
       "    .dataframe thead th {\n",
       "        text-align: right;\n",
       "    }\n",
       "</style>\n",
       "<table border=\"1\" class=\"dataframe\">\n",
       "  <thead>\n",
       "    <tr style=\"text-align: right;\">\n",
       "      <th></th>\n",
       "      <th>price</th>\n",
       "      <th>file_name</th>\n",
       "    </tr>\n",
       "    <tr>\n",
       "      <th>date_time</th>\n",
       "      <th></th>\n",
       "      <th></th>\n",
       "    </tr>\n",
       "  </thead>\n",
       "  <tbody>\n",
       "    <tr>\n",
       "      <th>1572480000000</th>\n",
       "      <td>0.001871</td>\n",
       "      <td>01coin</td>\n",
       "    </tr>\n",
       "    <tr>\n",
       "      <th>1572566400000</th>\n",
       "      <td>0.001748</td>\n",
       "      <td>01coin</td>\n",
       "    </tr>\n",
       "    <tr>\n",
       "      <th>1572652800000</th>\n",
       "      <td>0.001721</td>\n",
       "      <td>01coin</td>\n",
       "    </tr>\n",
       "    <tr>\n",
       "      <th>1572739200000</th>\n",
       "      <td>0.001423</td>\n",
       "      <td>01coin</td>\n",
       "    </tr>\n",
       "    <tr>\n",
       "      <th>1572825600000</th>\n",
       "      <td>0.001428</td>\n",
       "      <td>01coin</td>\n",
       "    </tr>\n",
       "  </tbody>\n",
       "</table>\n",
       "</div>"
      ],
      "text/plain": [
       "                  price file_name\n",
       "date_time                        \n",
       "1572480000000  0.001871    01coin\n",
       "1572566400000  0.001748    01coin\n",
       "1572652800000  0.001721    01coin\n",
       "1572739200000  0.001423    01coin\n",
       "1572825600000  0.001428    01coin"
      ]
     },
     "execution_count": 19,
     "metadata": {},
     "output_type": "execute_result"
    }
   ],
   "source": [
    "data_report = data_report.set_index('date_time')\n",
    "\n",
    "data_report.head()"
   ]
  },
  {
   "cell_type": "code",
   "execution_count": 20,
   "metadata": {},
   "outputs": [],
   "source": [
    "data_report.to_csv('top_ten_report.csv')"
   ]
  },
  {
   "cell_type": "code",
   "execution_count": 21,
   "metadata": {},
   "outputs": [
    {
     "data": {
      "text/html": [
       "<div>\n",
       "<style scoped>\n",
       "    .dataframe tbody tr th:only-of-type {\n",
       "        vertical-align: middle;\n",
       "    }\n",
       "\n",
       "    .dataframe tbody tr th {\n",
       "        vertical-align: top;\n",
       "    }\n",
       "\n",
       "    .dataframe thead th {\n",
       "        text-align: right;\n",
       "    }\n",
       "</style>\n",
       "<table border=\"1\" class=\"dataframe\">\n",
       "  <thead>\n",
       "    <tr style=\"text-align: right;\">\n",
       "      <th></th>\n",
       "      <th>date_time</th>\n",
       "      <th>price</th>\n",
       "      <th>file_name</th>\n",
       "    </tr>\n",
       "  </thead>\n",
       "  <tbody>\n",
       "    <tr>\n",
       "      <th>0</th>\n",
       "      <td>1572480000000</td>\n",
       "      <td>0.001871</td>\n",
       "      <td>01coin</td>\n",
       "    </tr>\n",
       "    <tr>\n",
       "      <th>1</th>\n",
       "      <td>1572566400000</td>\n",
       "      <td>0.001748</td>\n",
       "      <td>01coin</td>\n",
       "    </tr>\n",
       "    <tr>\n",
       "      <th>2</th>\n",
       "      <td>1572652800000</td>\n",
       "      <td>0.001721</td>\n",
       "      <td>01coin</td>\n",
       "    </tr>\n",
       "    <tr>\n",
       "      <th>3</th>\n",
       "      <td>1572739200000</td>\n",
       "      <td>0.001423</td>\n",
       "      <td>01coin</td>\n",
       "    </tr>\n",
       "    <tr>\n",
       "      <th>4</th>\n",
       "      <td>1572825600000</td>\n",
       "      <td>0.001428</td>\n",
       "      <td>01coin</td>\n",
       "    </tr>\n",
       "    <tr>\n",
       "      <th>...</th>\n",
       "      <td>...</td>\n",
       "      <td>...</td>\n",
       "      <td>...</td>\n",
       "    </tr>\n",
       "    <tr>\n",
       "      <th>347</th>\n",
       "      <td>1598054400000</td>\n",
       "      <td>7905.177680</td>\n",
       "      <td>0-5x-long-bnb-token</td>\n",
       "    </tr>\n",
       "    <tr>\n",
       "      <th>348</th>\n",
       "      <td>1598140800000</td>\n",
       "      <td>7946.084494</td>\n",
       "      <td>0-5x-long-bnb-token</td>\n",
       "    </tr>\n",
       "    <tr>\n",
       "      <th>349</th>\n",
       "      <td>1598227200000</td>\n",
       "      <td>7871.054036</td>\n",
       "      <td>0-5x-long-bnb-token</td>\n",
       "    </tr>\n",
       "    <tr>\n",
       "      <th>350</th>\n",
       "      <td>1598313600000</td>\n",
       "      <td>7999.239336</td>\n",
       "      <td>0-5x-long-bnb-token</td>\n",
       "    </tr>\n",
       "    <tr>\n",
       "      <th>351</th>\n",
       "      <td>1598346919000</td>\n",
       "      <td>7936.002833</td>\n",
       "      <td>0-5x-long-bnb-token</td>\n",
       "    </tr>\n",
       "  </tbody>\n",
       "</table>\n",
       "<p>352 rows × 3 columns</p>\n",
       "</div>"
      ],
      "text/plain": [
       "         date_time        price            file_name\n",
       "0    1572480000000     0.001871               01coin\n",
       "1    1572566400000     0.001748               01coin\n",
       "2    1572652800000     0.001721               01coin\n",
       "3    1572739200000     0.001423               01coin\n",
       "4    1572825600000     0.001428               01coin\n",
       "..             ...          ...                  ...\n",
       "347  1598054400000  7905.177680  0-5x-long-bnb-token\n",
       "348  1598140800000  7946.084494  0-5x-long-bnb-token\n",
       "349  1598227200000  7871.054036  0-5x-long-bnb-token\n",
       "350  1598313600000  7999.239336  0-5x-long-bnb-token\n",
       "351  1598346919000  7936.002833  0-5x-long-bnb-token\n",
       "\n",
       "[352 rows x 3 columns]"
      ]
     },
     "execution_count": 21,
     "metadata": {},
     "output_type": "execute_result"
    }
   ],
   "source": [
    "check = pd.read_csv('top_ten_report.csv')\n",
    "check"
   ]
  },
  {
   "cell_type": "code",
   "execution_count": null,
   "metadata": {},
   "outputs": [],
   "source": []
  }
 ],
 "metadata": {
  "kernelspec": {
   "display_name": "Python 3",
   "language": "python",
   "name": "python3"
  },
  "language_info": {
   "codemirror_mode": {
    "name": "ipython",
    "version": 3
   },
   "file_extension": ".py",
   "mimetype": "text/x-python",
   "name": "python",
   "nbconvert_exporter": "python",
   "pygments_lexer": "ipython3",
   "version": "3.8.5"
  }
 },
 "nbformat": 4,
 "nbformat_minor": 4
}
