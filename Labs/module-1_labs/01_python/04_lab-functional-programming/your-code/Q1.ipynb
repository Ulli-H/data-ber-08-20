{
 "cells": [
  {
   "cell_type": "markdown",
   "metadata": {},
   "source": [
    "In the cell below, create a Python function that wraps your previous solution for the Bag of Words lab.\n",
    "\n",
    "Requirements:\n",
    "\n",
    "1. Your function should accept the following parameters:\n",
    "    * `docs` [REQUIRED] - array of document paths.\n",
    "    * `stop_words` [OPTIONAL] - array of stop words. The default value is an empty array.\n",
    "\n",
    "1. Your function should return a Python object that contains the following:\n",
    "    * `bag_of_words` - array of strings of normalized unique words in the corpus.\n",
    "    * `term_freq` - array of the term-frequency vectors."
   ]
  },
  {
   "cell_type": "code",
   "execution_count": 1,
   "metadata": {},
   "outputs": [
    {
     "data": {
      "text/plain": [
       "{'bag_of_words': ['ironhack',\n",
       "  'is',\n",
       "  'cool',\n",
       "  'i',\n",
       "  'love',\n",
       "  'am',\n",
       "  'a',\n",
       "  'student',\n",
       "  'at'],\n",
       " 'term_freq': [[1, 1, 1, 0, 0, 0, 0, 0, 0],\n",
       "  [1, 0, 0, 1, 1, 0, 0, 0, 0],\n",
       "  [1, 0, 0, 1, 0, 1, 1, 1, 1]]}"
      ]
     },
     "execution_count": 1,
     "metadata": {},
     "output_type": "execute_result"
    }
   ],
   "source": [
    "# Import required libraries\n",
    "\n",
    "# Define function\n",
    "def get_bow_from_docs(docs, stop_words=[]):\n",
    "    corpus = []\n",
    "    bag_of_words = []\n",
    "    term_freq = []\n",
    "    # In the function, first define the variables you will use such as `corpus`, `bag_of_words`, and `term_freq`.\n",
    "    \n",
    "    for doc in docs:\n",
    "        with open(doc, \"r\") as file:\n",
    "            data = file.read()\n",
    "            corpus.append(data.replace(\".\", \"\").lower())\n",
    "    \n",
    "    \"\"\"\n",
    "    Loop `docs` and read the content of each doc into a string in `corpus`.\n",
    "    Remember to convert the doc content to lowercases and remove punctuation.\n",
    "    \"\"\"\n",
    "    for item in corpus:\n",
    "        splitted = item.split()\n",
    "        for split in splitted:\n",
    "            if split not in bag_of_words and split not in stop_words:\n",
    "                bag_of_words.append(split)\n",
    "\n",
    "    \n",
    "    \"\"\"\n",
    "    Loop `corpus`. Append the terms in each doc into the `bag_of_words` array. The terms in `bag_of_words` \n",
    "    should be unique which means before adding each term you need to check if it's already added to the array.\n",
    "    In addition, check if each term is in the `stop_words` array. Only append the term to `bag_of_words`\n",
    "    if it is not a stop word.\n",
    "    \"\"\"\n",
    "    for item in corpus:\n",
    "        splitted = item.split()\n",
    "        term_freq.append([ splitted.count(x) for x in bag_of_words])\n",
    "    \n",
    "    \n",
    "    \"\"\"\n",
    "    Loop `corpus` again. For each doc string, count the number of occurrences of each term in `bag_of_words`. \n",
    "    Create an array for each doc's term frequency and append it to `term_freq`.\n",
    "    \"\"\"\n",
    "\n",
    "    \n",
    "    \n",
    "    # Now return your output as an object\n",
    "    return {\n",
    "        \"bag_of_words\": bag_of_words,\n",
    "        \"term_freq\": term_freq\n",
    "    }\n",
    "docs = ['../../03_lab-string-operations/your-code/doc1.txt', \n",
    "        '../../03_lab-string-operations/your-code/doc2.txt',\n",
    "        '../../03_lab-string-operations/your-code/doc3.txt']\n",
    "\n",
    "get_bow_from_docs(docs)"
   ]
  },
  {
   "cell_type": "markdown",
   "metadata": {},
   "source": [
    "Test your function without stop words. You should see the output like below:\n",
    "\n",
    "```{'bag_of_words': ['ironhack', 'is', 'cool', 'i', 'love', 'am', 'a', 'student', 'at'], 'term_freq': [[1, 1, 1, 0, 0, 0, 0, 0, 0], [1, 0, 0, 1, 1, 0, 0, 0, 0], [1, 0, 0, 1, 0, 1, 1, 1, 1]]}```"
   ]
  },
  {
   "cell_type": "code",
   "execution_count": 2,
   "metadata": {},
   "outputs": [
    {
     "name": "stdout",
     "output_type": "stream",
     "text": [
      "{'bag_of_words': ['ironhack', 'is', 'cool', 'i', 'love', 'am', 'a', 'student', 'at'], 'term_freq': [[1, 1, 1, 0, 0, 0, 0, 0, 0], [1, 0, 0, 1, 1, 0, 0, 0, 0], [1, 0, 0, 1, 0, 1, 1, 1, 1]]}\n"
     ]
    }
   ],
   "source": [
    "# Define doc paths array\n",
    "#docs = []\n",
    "docs = ['../../03_lab-string-operations/your-code/doc1.txt', \n",
    "        '../../03_lab-string-operations/your-code/doc2.txt',\n",
    "        '../../03_lab-string-operations/your-code/doc3.txt']\n",
    "# Obtain BoW from your function\n",
    "bow = get_bow_from_docs(docs)\n",
    "\n",
    "# Print BoW\n",
    "print(bow)"
   ]
  },
  {
   "cell_type": "markdown",
   "metadata": {},
   "source": [
    "If your attempt above is successful, nice work done!\n",
    "\n",
    "Now test your function again with the stop words. In the previous lab we defined the stop words in a large array. In this lab, we'll import the stop words from Scikit-Learn."
   ]
  },
  {
   "cell_type": "code",
   "execution_count": 3,
   "metadata": {},
   "outputs": [
    {
     "name": "stdout",
     "output_type": "stream",
     "text": [
      "frozenset({'until', 'whence', 'whether', 'might', 'become', 'very', 'part', 'here', 'much', 'formerly', 'wherein', 'across', 'hasnt', 'seeming', 'any', 'nevertheless', 'will', 'last', 'before', 'off', 'since', 'hundred', 'am', 'everywhere', 'former', 'sometime', 'thin', 'upon', 'such', 'yourself', 'its', 'through', 'down', 'is', 'can', 'must', 'back', 'take', 'ourselves', 'an', 'due', 'us', 'meanwhile', 'toward', 'hence', 'please', 'not', 'five', 'it', 'as', 'you', 'her', 'from', 'somehow', 'beside', 'how', 'always', 'twelve', 'whereas', 'less', 'under', 'wherever', 'together', 'their', 'to', 'onto', 'system', 'amount', 'con', 'but', 'became', 'thick', 'enough', 'twenty', 'for', 'more', 'noone', 'mostly', 'whereupon', 'others', 'whenever', 'well', 'nowhere', 're', 'around', 'been', 'fire', 'found', 'being', 'de', 'where', 'indeed', 'also', 'and', 'with', 'perhaps', 'else', 'once', 'another', 'three', 'some', 'every', 'move', 'full', 'throughout', 'except', 'why', 'have', 'forty', 'amoungst', 'etc', 'amongst', 'latterly', 'themselves', 'although', 'front', 'sixty', 'four', 'thus', 'often', 'un', 'ten', 'anyway', 'when', 'whereafter', 'were', 'few', 'no', 'per', 'beyond', 'someone', 'namely', 'had', 'still', 'each', 'nothing', 'almost', 'anyone', 'serious', 'if', 'give', 'this', 'what', 'rather', 'though', 'co', 'he', 'was', 'at', 'among', 'done', 'hereupon', 'after', 'me', 'within', 'over', 'by', 'himself', 'or', 'now', 'empty', 'eight', 'hereby', 'cant', 'therefore', 'name', 'between', 'six', 'put', 'thence', 'be', 'has', 'his', 'seem', 'both', 'nor', 'whose', 'eg', 'thereafter', 'thereby', 'thru', 'ie', 'one', 'ours', 'myself', 'call', 'two', 'while', 'your', 'fifty', 'via', 'along', 'she', 'on', 'hers', 'beforehand', 'nine', 'i', 'sincere', 'cry', 'him', 'keep', 'bill', 'further', 'herein', 'only', 'so', 'herself', 'towards', 'below', 'neither', 'do', 'same', 'whatever', 'whoever', 'other', 'sometimes', 'elsewhere', 'something', 'whom', 'against', 'seemed', 'anything', 'thereupon', 'whereby', 'top', 'nobody', 'even', 'most', 'show', 'in', 'see', 'then', 'side', 'otherwise', 'becomes', 'yourselves', 'itself', 'into', 'find', 'during', 'alone', 'whole', 'afterwards', 'out', 'go', 'yet', 'too', 'however', 'because', 'these', 'inc', 'them', 'ever', 'everything', 'than', 'latter', 'of', 'none', 'those', 'behind', 'whither', 'the', 'fill', 'mill', 'anywhere', 'detail', 'describe', 'ltd', 'may', 'we', 'made', 'cannot', 'bottom', 'third', 'all', 'several', 'mine', 'are', 'again', 'moreover', 'could', 'without', 'would', 'own', 'there', 'who', 'a', 'never', 'many', 'seems', 'about', 'our', 'next', 'already', 'either', 'that', 'couldnt', 'yours', 'eleven', 'my', 'fifteen', 'hereafter', 'besides', 'first', 'up', 'which', 'get', 'everyone', 'somewhere', 'becoming', 'least', 'anyhow', 'above', 'they', 'should', 'interest', 'therein'})\n"
     ]
    },
    {
     "name": "stderr",
     "output_type": "stream",
     "text": [
      "/Users/ulrikeanklam/opt/anaconda3/envs/matrix/lib/python3.8/site-packages/sklearn/utils/deprecation.py:143: FutureWarning: The sklearn.feature_extraction.stop_words module is  deprecated in version 0.22 and will be removed in version 0.24. The corresponding classes / functions should instead be imported from sklearn.feature_extraction.text. Anything that cannot be imported from sklearn.feature_extraction.text is now part of the private API.\n",
      "  warnings.warn(message, FutureWarning)\n"
     ]
    }
   ],
   "source": [
    "from sklearn.feature_extraction import stop_words\n",
    "print(stop_words.ENGLISH_STOP_WORDS)"
   ]
  },
  {
   "cell_type": "markdown",
   "metadata": {},
   "source": [
    "You should have seen a large list of words that looks like:\n",
    "\n",
    "```frozenset({'across', 'mine', 'cannot', ...})```\n",
    "\n",
    "`frozenset` is a type of Python object that is immutable. In this lab you can use it just like an array without conversion."
   ]
  },
  {
   "cell_type": "markdown",
   "metadata": {},
   "source": [
    "Next, test your function with supplying `stop_words.ENGLISH_STOP_WORDS` as the second parameter."
   ]
  },
  {
   "cell_type": "code",
   "execution_count": 4,
   "metadata": {},
   "outputs": [
    {
     "name": "stdout",
     "output_type": "stream",
     "text": [
      "{'bag_of_words': ['ironhack', 'cool', 'love', 'student'], 'term_freq': [[1, 1, 0, 0], [1, 0, 1, 0], [1, 0, 0, 1]]}\n"
     ]
    }
   ],
   "source": [
    "bow = get_bow_from_docs(docs, stop_words.ENGLISH_STOP_WORDS)\n",
    "\n",
    "print(bow)"
   ]
  },
  {
   "cell_type": "markdown",
   "metadata": {},
   "source": [
    "You should have seen:\n",
    "\n",
    "```{'bag_of_words': ['ironhack', 'cool', 'love', 'student'], 'term_freq': [[1, 1, 0, 0], [1, 0, 1, 0], [1, 0, 0, 1]]}```"
   ]
  },
  {
   "cell_type": "code",
   "execution_count": null,
   "metadata": {},
   "outputs": [],
   "source": []
  }
 ],
 "metadata": {
  "kernelspec": {
   "display_name": "Python 3",
   "language": "python",
   "name": "python3"
  },
  "language_info": {
   "codemirror_mode": {
    "name": "ipython",
    "version": 3
   },
   "file_extension": ".py",
   "mimetype": "text/x-python",
   "name": "python",
   "nbconvert_exporter": "python",
   "pygments_lexer": "ipython3",
   "version": "3.8.5"
  }
 },
 "nbformat": 4,
 "nbformat_minor": 4
}
